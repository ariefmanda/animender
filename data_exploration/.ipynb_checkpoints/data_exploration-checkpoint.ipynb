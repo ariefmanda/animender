{
 "cells": [
  {
   "cell_type": "markdown",
   "metadata": {},
   "source": [
    "## Data Exploration for Animender"
   ]
  },
  {
   "cell_type": "code",
   "execution_count": 1,
   "metadata": {
    "collapsed": false
   },
   "outputs": [],
   "source": [
    "import pandas as pd\n",
    "import operator"
   ]
  },
  {
   "cell_type": "code",
   "execution_count": 5,
   "metadata": {
    "collapsed": false
   },
   "outputs": [
    {
     "name": "stdout",
     "output_type": "stream",
     "text": [
      "(12294, 7)\n"
     ]
    }
   ],
   "source": [
    "animes = pd.read_csv('../data/anime.csv')\n",
    "animes_values = animes.values\n",
    "print animes.shape"
   ]
  },
  {
   "cell_type": "code",
   "execution_count": 6,
   "metadata": {
    "collapsed": false
   },
   "outputs": [
    {
     "data": {
      "text/html": [
       "<div>\n",
       "<table border=\"1\" class=\"dataframe\">\n",
       "  <thead>\n",
       "    <tr style=\"text-align: right;\">\n",
       "      <th></th>\n",
       "      <th>anime_id</th>\n",
       "      <th>name</th>\n",
       "      <th>genre</th>\n",
       "      <th>type</th>\n",
       "      <th>episodes</th>\n",
       "      <th>rating</th>\n",
       "      <th>members</th>\n",
       "    </tr>\n",
       "  </thead>\n",
       "  <tbody>\n",
       "    <tr>\n",
       "      <th>0</th>\n",
       "      <td>32281</td>\n",
       "      <td>Kimi no Na wa.</td>\n",
       "      <td>Drama, Romance, School, Supernatural</td>\n",
       "      <td>Movie</td>\n",
       "      <td>1</td>\n",
       "      <td>9.37</td>\n",
       "      <td>200630</td>\n",
       "    </tr>\n",
       "    <tr>\n",
       "      <th>1</th>\n",
       "      <td>5114</td>\n",
       "      <td>Fullmetal Alchemist: Brotherhood</td>\n",
       "      <td>Action, Adventure, Drama, Fantasy, Magic, Mili...</td>\n",
       "      <td>TV</td>\n",
       "      <td>64</td>\n",
       "      <td>9.26</td>\n",
       "      <td>793665</td>\n",
       "    </tr>\n",
       "    <tr>\n",
       "      <th>2</th>\n",
       "      <td>28977</td>\n",
       "      <td>Gintama°</td>\n",
       "      <td>Action, Comedy, Historical, Parody, Samurai, S...</td>\n",
       "      <td>TV</td>\n",
       "      <td>51</td>\n",
       "      <td>9.25</td>\n",
       "      <td>114262</td>\n",
       "    </tr>\n",
       "    <tr>\n",
       "      <th>3</th>\n",
       "      <td>9253</td>\n",
       "      <td>Steins;Gate</td>\n",
       "      <td>Sci-Fi, Thriller</td>\n",
       "      <td>TV</td>\n",
       "      <td>24</td>\n",
       "      <td>9.17</td>\n",
       "      <td>673572</td>\n",
       "    </tr>\n",
       "    <tr>\n",
       "      <th>4</th>\n",
       "      <td>9969</td>\n",
       "      <td>Gintama&amp;#039;</td>\n",
       "      <td>Action, Comedy, Historical, Parody, Samurai, S...</td>\n",
       "      <td>TV</td>\n",
       "      <td>51</td>\n",
       "      <td>9.16</td>\n",
       "      <td>151266</td>\n",
       "    </tr>\n",
       "  </tbody>\n",
       "</table>\n",
       "</div>"
      ],
      "text/plain": [
       "   anime_id                              name  \\\n",
       "0     32281                    Kimi no Na wa.   \n",
       "1      5114  Fullmetal Alchemist: Brotherhood   \n",
       "2     28977                          Gintama°   \n",
       "3      9253                       Steins;Gate   \n",
       "4      9969                     Gintama&#039;   \n",
       "\n",
       "                                               genre   type episodes  rating  \\\n",
       "0               Drama, Romance, School, Supernatural  Movie        1    9.37   \n",
       "1  Action, Adventure, Drama, Fantasy, Magic, Mili...     TV       64    9.26   \n",
       "2  Action, Comedy, Historical, Parody, Samurai, S...     TV       51    9.25   \n",
       "3                                   Sci-Fi, Thriller     TV       24    9.17   \n",
       "4  Action, Comedy, Historical, Parody, Samurai, S...     TV       51    9.16   \n",
       "\n",
       "   members  \n",
       "0   200630  \n",
       "1   793665  \n",
       "2   114262  \n",
       "3   673572  \n",
       "4   151266  "
      ]
     },
     "execution_count": 6,
     "metadata": {},
     "output_type": "execute_result"
    }
   ],
   "source": [
    "animes.head()"
   ]
  },
  {
   "cell_type": "code",
   "execution_count": 7,
   "metadata": {
    "collapsed": false,
    "scrolled": true
   },
   "outputs": [
    {
     "name": "stdout",
     "output_type": "stream",
     "text": [
      "['Movie', 'TV', 'OVA', 'Special', 'Music', 'ONA', nan]\n"
     ]
    }
   ],
   "source": [
    "#How many types of anime are in the dataset\n",
    "anime_types = []\n",
    "for i in range(len(animes)):\n",
    "    if animes_values[i][3] not in anime_types:\n",
    "        anime_types.append(animes_values[i][3])\n",
    "print anime_types"
   ]
  },
  {
   "cell_type": "code",
   "execution_count": 8,
   "metadata": {
    "collapsed": false
   },
   "outputs": [
    {
     "name": "stdout",
     "output_type": "stream",
     "text": [
      "Total Movie: 2348\n",
      "Total TV: 3787\n",
      "Total OVA: 3311\n",
      "Total Special: 1676\n",
      "Total Music: 488\n",
      "Total ONA: 659\n",
      "Total nan: 0\n"
     ]
    }
   ],
   "source": [
    "#How many movies, how many OVA and how many tv's show?\n",
    "for anime_type in anime_types:\n",
    "    print('Total {0}: {1}'.format(anime_type, len(animes[animes.type == anime_type])))"
   ]
  },
  {
   "cell_type": "code",
   "execution_count": 9,
   "metadata": {
    "collapsed": false
   },
   "outputs": [
    {
     "name": "stdout",
     "output_type": "stream",
     "text": [
      "(3787, 7)\n"
     ]
    }
   ],
   "source": [
    "#Anime data\n",
    "anime_data = animes[animes.type == 'TV']\n",
    "print(anime_data.shape)"
   ]
  },
  {
   "cell_type": "code",
   "execution_count": 10,
   "metadata": {
    "collapsed": false
   },
   "outputs": [
    {
     "name": "stderr",
     "output_type": "stream",
     "text": [
      "/home/nestor/anaconda2/lib/python2.7/site-packages/ipykernel/__main__.py:2: SettingWithCopyWarning: \n",
      "A value is trying to be set on a copy of a slice from a DataFrame.\n",
      "Try using .loc[row_indexer,col_indexer] = value instead\n",
      "\n",
      "See the caveats in the documentation: http://pandas.pydata.org/pandas-docs/stable/indexing.html#indexing-view-versus-copy\n",
      "  from ipykernel import kernelapp as app\n",
      "/home/nestor/anaconda2/lib/python2.7/site-packages/pandas/core/indexing.py:476: SettingWithCopyWarning: \n",
      "A value is trying to be set on a copy of a slice from a DataFrame.\n",
      "Try using .loc[row_indexer,col_indexer] = value instead\n",
      "\n",
      "See the caveats in the documentation: http://pandas.pydata.org/pandas-docs/stable/indexing.html#indexing-view-versus-copy\n",
      "  self.obj[item] = s\n"
     ]
    }
   ],
   "source": [
    "#Remove Unknown value from episodes\n",
    "anime_data[anime_data.episodes == 'Unknown'] = 0"
   ]
  },
  {
   "cell_type": "code",
   "execution_count": 11,
   "metadata": {
    "collapsed": false,
    "scrolled": true
   },
   "outputs": [],
   "source": [
    "best_by_rating = anime_data.sort_values(by='rating', ascending=False)\n",
    "best_by_members = anime_data.sort_values(by='members', ascending=False)\n",
    "best_by_episodes = anime_data.sort_values(by='episodes', ascending=False)"
   ]
  },
  {
   "cell_type": "code",
   "execution_count": 12,
   "metadata": {
    "collapsed": false,
    "scrolled": true
   },
   "outputs": [
    {
     "data": {
      "text/html": [
       "<div>\n",
       "<table border=\"1\" class=\"dataframe\">\n",
       "  <thead>\n",
       "    <tr style=\"text-align: right;\">\n",
       "      <th></th>\n",
       "      <th>anime_id</th>\n",
       "      <th>name</th>\n",
       "      <th>genre</th>\n",
       "      <th>type</th>\n",
       "      <th>episodes</th>\n",
       "      <th>rating</th>\n",
       "      <th>members</th>\n",
       "    </tr>\n",
       "  </thead>\n",
       "  <tbody>\n",
       "    <tr>\n",
       "      <th>1</th>\n",
       "      <td>5114</td>\n",
       "      <td>Fullmetal Alchemist: Brotherhood</td>\n",
       "      <td>Action, Adventure, Drama, Fantasy, Magic, Mili...</td>\n",
       "      <td>TV</td>\n",
       "      <td>64</td>\n",
       "      <td>9.26</td>\n",
       "      <td>793665</td>\n",
       "    </tr>\n",
       "    <tr>\n",
       "      <th>2</th>\n",
       "      <td>28977</td>\n",
       "      <td>Gintama°</td>\n",
       "      <td>Action, Comedy, Historical, Parody, Samurai, S...</td>\n",
       "      <td>TV</td>\n",
       "      <td>51</td>\n",
       "      <td>9.25</td>\n",
       "      <td>114262</td>\n",
       "    </tr>\n",
       "    <tr>\n",
       "      <th>3</th>\n",
       "      <td>9253</td>\n",
       "      <td>Steins;Gate</td>\n",
       "      <td>Sci-Fi, Thriller</td>\n",
       "      <td>TV</td>\n",
       "      <td>24</td>\n",
       "      <td>9.17</td>\n",
       "      <td>673572</td>\n",
       "    </tr>\n",
       "    <tr>\n",
       "      <th>4</th>\n",
       "      <td>9969</td>\n",
       "      <td>Gintama&amp;#039;</td>\n",
       "      <td>Action, Comedy, Historical, Parody, Samurai, S...</td>\n",
       "      <td>TV</td>\n",
       "      <td>51</td>\n",
       "      <td>9.16</td>\n",
       "      <td>151266</td>\n",
       "    </tr>\n",
       "    <tr>\n",
       "      <th>5</th>\n",
       "      <td>32935</td>\n",
       "      <td>Haikyuu!!: Karasuno Koukou VS Shiratorizawa Ga...</td>\n",
       "      <td>Comedy, Drama, School, Shounen, Sports</td>\n",
       "      <td>TV</td>\n",
       "      <td>10</td>\n",
       "      <td>9.15</td>\n",
       "      <td>93351</td>\n",
       "    </tr>\n",
       "  </tbody>\n",
       "</table>\n",
       "</div>"
      ],
      "text/plain": [
       "   anime_id                                               name  \\\n",
       "1      5114                   Fullmetal Alchemist: Brotherhood   \n",
       "2     28977                                           Gintama°   \n",
       "3      9253                                        Steins;Gate   \n",
       "4      9969                                      Gintama&#039;   \n",
       "5     32935  Haikyuu!!: Karasuno Koukou VS Shiratorizawa Ga...   \n",
       "\n",
       "                                               genre type episodes  rating  \\\n",
       "1  Action, Adventure, Drama, Fantasy, Magic, Mili...   TV       64    9.26   \n",
       "2  Action, Comedy, Historical, Parody, Samurai, S...   TV       51    9.25   \n",
       "3                                   Sci-Fi, Thriller   TV       24    9.17   \n",
       "4  Action, Comedy, Historical, Parody, Samurai, S...   TV       51    9.16   \n",
       "5             Comedy, Drama, School, Shounen, Sports   TV       10    9.15   \n",
       "\n",
       "   members  \n",
       "1   793665  \n",
       "2   114262  \n",
       "3   673572  \n",
       "4   151266  \n",
       "5    93351  "
      ]
     },
     "execution_count": 12,
     "metadata": {},
     "output_type": "execute_result"
    }
   ],
   "source": [
    "best_by_rating.head()"
   ]
  },
  {
   "cell_type": "code",
   "execution_count": 13,
   "metadata": {
    "collapsed": false
   },
   "outputs": [
    {
     "data": {
      "text/html": [
       "<div>\n",
       "<table border=\"1\" class=\"dataframe\">\n",
       "  <thead>\n",
       "    <tr style=\"text-align: right;\">\n",
       "      <th></th>\n",
       "      <th>anime_id</th>\n",
       "      <th>name</th>\n",
       "      <th>genre</th>\n",
       "      <th>type</th>\n",
       "      <th>episodes</th>\n",
       "      <th>rating</th>\n",
       "      <th>members</th>\n",
       "    </tr>\n",
       "  </thead>\n",
       "  <tbody>\n",
       "    <tr>\n",
       "      <th>40</th>\n",
       "      <td>1535</td>\n",
       "      <td>Death Note</td>\n",
       "      <td>Mystery, Police, Psychological, Supernatural, ...</td>\n",
       "      <td>TV</td>\n",
       "      <td>37</td>\n",
       "      <td>8.71</td>\n",
       "      <td>1013917</td>\n",
       "    </tr>\n",
       "    <tr>\n",
       "      <th>86</th>\n",
       "      <td>16498</td>\n",
       "      <td>Shingeki no Kyojin</td>\n",
       "      <td>Action, Drama, Fantasy, Shounen, Super Power</td>\n",
       "      <td>TV</td>\n",
       "      <td>25</td>\n",
       "      <td>8.54</td>\n",
       "      <td>896229</td>\n",
       "    </tr>\n",
       "    <tr>\n",
       "      <th>804</th>\n",
       "      <td>11757</td>\n",
       "      <td>Sword Art Online</td>\n",
       "      <td>Action, Adventure, Fantasy, Game, Romance</td>\n",
       "      <td>TV</td>\n",
       "      <td>25</td>\n",
       "      <td>7.83</td>\n",
       "      <td>893100</td>\n",
       "    </tr>\n",
       "    <tr>\n",
       "      <th>1</th>\n",
       "      <td>5114</td>\n",
       "      <td>Fullmetal Alchemist: Brotherhood</td>\n",
       "      <td>Action, Adventure, Drama, Fantasy, Magic, Mili...</td>\n",
       "      <td>TV</td>\n",
       "      <td>64</td>\n",
       "      <td>9.26</td>\n",
       "      <td>793665</td>\n",
       "    </tr>\n",
       "    <tr>\n",
       "      <th>159</th>\n",
       "      <td>6547</td>\n",
       "      <td>Angel Beats!</td>\n",
       "      <td>Action, Comedy, Drama, School, Supernatural</td>\n",
       "      <td>TV</td>\n",
       "      <td>13</td>\n",
       "      <td>8.39</td>\n",
       "      <td>717796</td>\n",
       "    </tr>\n",
       "  </tbody>\n",
       "</table>\n",
       "</div>"
      ],
      "text/plain": [
       "     anime_id                              name  \\\n",
       "40       1535                        Death Note   \n",
       "86      16498                Shingeki no Kyojin   \n",
       "804     11757                  Sword Art Online   \n",
       "1        5114  Fullmetal Alchemist: Brotherhood   \n",
       "159      6547                      Angel Beats!   \n",
       "\n",
       "                                                 genre type episodes  rating  \\\n",
       "40   Mystery, Police, Psychological, Supernatural, ...   TV       37    8.71   \n",
       "86        Action, Drama, Fantasy, Shounen, Super Power   TV       25    8.54   \n",
       "804          Action, Adventure, Fantasy, Game, Romance   TV       25    7.83   \n",
       "1    Action, Adventure, Drama, Fantasy, Magic, Mili...   TV       64    9.26   \n",
       "159        Action, Comedy, Drama, School, Supernatural   TV       13    8.39   \n",
       "\n",
       "     members  \n",
       "40   1013917  \n",
       "86    896229  \n",
       "804   893100  \n",
       "1     793665  \n",
       "159   717796  "
      ]
     },
     "execution_count": 13,
     "metadata": {},
     "output_type": "execute_result"
    }
   ],
   "source": [
    "best_by_members.head()"
   ]
  },
  {
   "cell_type": "code",
   "execution_count": 14,
   "metadata": {
    "collapsed": false
   },
   "outputs": [
    {
     "data": {
      "text/html": [
       "<div>\n",
       "<table border=\"1\" class=\"dataframe\">\n",
       "  <thead>\n",
       "    <tr style=\"text-align: right;\">\n",
       "      <th></th>\n",
       "      <th>anime_id</th>\n",
       "      <th>name</th>\n",
       "      <th>genre</th>\n",
       "      <th>type</th>\n",
       "      <th>episodes</th>\n",
       "      <th>rating</th>\n",
       "      <th>members</th>\n",
       "    </tr>\n",
       "  </thead>\n",
       "  <tbody>\n",
       "    <tr>\n",
       "      <th>2276</th>\n",
       "      <td>3437</td>\n",
       "      <td>Mister Ajikko</td>\n",
       "      <td>Comedy, Shounen</td>\n",
       "      <td>TV</td>\n",
       "      <td>99</td>\n",
       "      <td>7.31</td>\n",
       "      <td>1828</td>\n",
       "    </tr>\n",
       "    <tr>\n",
       "      <th>69</th>\n",
       "      <td>12431</td>\n",
       "      <td>Uchuu Kyoudai</td>\n",
       "      <td>Comedy, Sci-Fi, Seinen, Slice of Life, Space</td>\n",
       "      <td>TV</td>\n",
       "      <td>99</td>\n",
       "      <td>8.59</td>\n",
       "      <td>72958</td>\n",
       "    </tr>\n",
       "    <tr>\n",
       "      <th>1128</th>\n",
       "      <td>2268</td>\n",
       "      <td>Tatakae! Chou Robot Seimeitai Transformers</td>\n",
       "      <td>Adventure, Mecha, Sci-Fi, Shounen</td>\n",
       "      <td>TV</td>\n",
       "      <td>98</td>\n",
       "      <td>7.67</td>\n",
       "      <td>5652</td>\n",
       "    </tr>\n",
       "    <tr>\n",
       "      <th>4960</th>\n",
       "      <td>12929</td>\n",
       "      <td>Saint Seiya Omega</td>\n",
       "      <td>Action, Adventure, Fantasy, Shounen</td>\n",
       "      <td>TV</td>\n",
       "      <td>97</td>\n",
       "      <td>6.59</td>\n",
       "      <td>22684</td>\n",
       "    </tr>\n",
       "    <tr>\n",
       "      <th>588</th>\n",
       "      <td>6033</td>\n",
       "      <td>Dragon Ball Kai</td>\n",
       "      <td>Action, Adventure, Comedy, Fantasy, Martial Ar...</td>\n",
       "      <td>TV</td>\n",
       "      <td>97</td>\n",
       "      <td>7.95</td>\n",
       "      <td>116832</td>\n",
       "    </tr>\n",
       "  </tbody>\n",
       "</table>\n",
       "</div>"
      ],
      "text/plain": [
       "      anime_id                                        name  \\\n",
       "2276      3437                               Mister Ajikko   \n",
       "69       12431                               Uchuu Kyoudai   \n",
       "1128      2268  Tatakae! Chou Robot Seimeitai Transformers   \n",
       "4960     12929                           Saint Seiya Omega   \n",
       "588       6033                             Dragon Ball Kai   \n",
       "\n",
       "                                                  genre type episodes  rating  \\\n",
       "2276                                    Comedy, Shounen   TV       99    7.31   \n",
       "69         Comedy, Sci-Fi, Seinen, Slice of Life, Space   TV       99    8.59   \n",
       "1128                  Adventure, Mecha, Sci-Fi, Shounen   TV       98    7.67   \n",
       "4960                Action, Adventure, Fantasy, Shounen   TV       97    6.59   \n",
       "588   Action, Adventure, Comedy, Fantasy, Martial Ar...   TV       97    7.95   \n",
       "\n",
       "      members  \n",
       "2276     1828  \n",
       "69      72958  \n",
       "1128     5652  \n",
       "4960    22684  \n",
       "588    116832  "
      ]
     },
     "execution_count": 14,
     "metadata": {},
     "output_type": "execute_result"
    }
   ],
   "source": [
    "best_by_episodes.head()"
   ]
  },
  {
   "cell_type": "code",
   "execution_count": 16,
   "metadata": {
    "collapsed": false
   },
   "outputs": [
    {
     "data": {
      "text/plain": [
       "(7813737, 3)"
      ]
     },
     "execution_count": 16,
     "metadata": {},
     "output_type": "execute_result"
    }
   ],
   "source": [
    "#Read Ratings Data\n",
    "ratings = pd.read_csv('../data/rating.csv.zip')\n",
    "ratings.shape"
   ]
  },
  {
   "cell_type": "code",
   "execution_count": 17,
   "metadata": {
    "collapsed": false
   },
   "outputs": [
    {
     "data": {
      "text/html": [
       "<div>\n",
       "<table border=\"1\" class=\"dataframe\">\n",
       "  <thead>\n",
       "    <tr style=\"text-align: right;\">\n",
       "      <th></th>\n",
       "      <th>user_id</th>\n",
       "      <th>anime_id</th>\n",
       "      <th>rating</th>\n",
       "    </tr>\n",
       "  </thead>\n",
       "  <tbody>\n",
       "    <tr>\n",
       "      <th>0</th>\n",
       "      <td>1</td>\n",
       "      <td>20</td>\n",
       "      <td>-1</td>\n",
       "    </tr>\n",
       "    <tr>\n",
       "      <th>1</th>\n",
       "      <td>1</td>\n",
       "      <td>24</td>\n",
       "      <td>-1</td>\n",
       "    </tr>\n",
       "    <tr>\n",
       "      <th>2</th>\n",
       "      <td>1</td>\n",
       "      <td>79</td>\n",
       "      <td>-1</td>\n",
       "    </tr>\n",
       "    <tr>\n",
       "      <th>3</th>\n",
       "      <td>1</td>\n",
       "      <td>226</td>\n",
       "      <td>-1</td>\n",
       "    </tr>\n",
       "    <tr>\n",
       "      <th>4</th>\n",
       "      <td>1</td>\n",
       "      <td>241</td>\n",
       "      <td>-1</td>\n",
       "    </tr>\n",
       "  </tbody>\n",
       "</table>\n",
       "</div>"
      ],
      "text/plain": [
       "   user_id  anime_id  rating\n",
       "0        1        20      -1\n",
       "1        1        24      -1\n",
       "2        1        79      -1\n",
       "3        1       226      -1\n",
       "4        1       241      -1"
      ]
     },
     "execution_count": 17,
     "metadata": {},
     "output_type": "execute_result"
    }
   ],
   "source": [
    "ratings.head()"
   ]
  },
  {
   "cell_type": "code",
   "execution_count": 18,
   "metadata": {
    "collapsed": false
   },
   "outputs": [
    {
     "data": {
      "text/html": [
       "<div>\n",
       "<table border=\"1\" class=\"dataframe\">\n",
       "  <thead>\n",
       "    <tr style=\"text-align: right;\">\n",
       "      <th></th>\n",
       "      <th>anime_id</th>\n",
       "      <th>name</th>\n",
       "      <th>genre</th>\n",
       "      <th>type</th>\n",
       "      <th>episodes</th>\n",
       "      <th>rating</th>\n",
       "      <th>members</th>\n",
       "    </tr>\n",
       "  </thead>\n",
       "  <tbody>\n",
       "    <tr>\n",
       "      <th>841</th>\n",
       "      <td>20</td>\n",
       "      <td>Naruto</td>\n",
       "      <td>Action, Comedy, Martial Arts, Shounen, Super P...</td>\n",
       "      <td>TV</td>\n",
       "      <td>220</td>\n",
       "      <td>7.81</td>\n",
       "      <td>683297</td>\n",
       "    </tr>\n",
       "  </tbody>\n",
       "</table>\n",
       "</div>"
      ],
      "text/plain": [
       "     anime_id    name                                              genre type  \\\n",
       "841        20  Naruto  Action, Comedy, Martial Arts, Shounen, Super P...   TV   \n",
       "\n",
       "    episodes  rating  members  \n",
       "841      220    7.81   683297  "
      ]
     },
     "execution_count": 18,
     "metadata": {},
     "output_type": "execute_result"
    }
   ],
   "source": [
    "#Taking a look into animes\n",
    "animes[animes.anime_id == 20]"
   ]
  },
  {
   "cell_type": "code",
   "execution_count": 19,
   "metadata": {
    "collapsed": false
   },
   "outputs": [
    {
     "data": {
      "text/plain": [
       "(6337241, 3)"
      ]
     },
     "execution_count": 19,
     "metadata": {},
     "output_type": "execute_result"
    }
   ],
   "source": [
    "ratings_completed = ratings[ratings.rating > -1]\n",
    "ratings_completed.shape"
   ]
  },
  {
   "cell_type": "code",
   "execution_count": 20,
   "metadata": {
    "collapsed": false
   },
   "outputs": [],
   "source": [
    "ratings_completed_values = ratings_completed.values"
   ]
  },
  {
   "cell_type": "code",
   "execution_count": 21,
   "metadata": {
    "collapsed": false
   },
   "outputs": [],
   "source": [
    "ratings_max_dict = {}\n",
    "for i in range(len(ratings_completed_values)):\n",
    "    try:\n",
    "        if ratings_completed_values[i][2] == 10:\n",
    "            ratings_max_dict[ratings_completed_values[i][1]] += 1\n",
    "    except KeyError:\n",
    "        ratings_max_dict[ratings_completed_values[i][1]] = 1\n"
   ]
  },
  {
   "cell_type": "code",
   "execution_count": 22,
   "metadata": {
    "collapsed": false
   },
   "outputs": [],
   "source": [
    "sorted_max_animes = sorted(ratings_max_dict.items(), key=operator.itemgetter(1), reverse=True)"
   ]
  },
  {
   "cell_type": "code",
   "execution_count": 23,
   "metadata": {
    "collapsed": false
   },
   "outputs": [
    {
     "name": "stdout",
     "output_type": "stream",
     "text": [
      "40    Death Note\n",
      "Name: name, dtype: object\n",
      "1    Fullmetal Alchemist: Brotherhood\n",
      "Name: name, dtype: object\n",
      "13    Code Geass: Hangyaku no Lelouch R2\n",
      "Name: name, dtype: object\n",
      "19    Code Geass: Hangyaku no Lelouch\n",
      "Name: name, dtype: object\n",
      "3    Steins;Gate\n",
      "Name: name, dtype: object\n",
      "10    Clannad: After Story\n",
      "Name: name, dtype: object\n",
      "86    Shingeki no Kyojin\n",
      "Name: name, dtype: object\n",
      "Series([], Name: name, dtype: object)\n",
      "29    Tengen Toppa Gurren Lagann\n",
      "Name: name, dtype: object\n",
      "159    Angel Beats!\n",
      "Name: name, dtype: object\n"
     ]
    }
   ],
   "source": [
    "#Printing TOP Ten of animes with a classification of 10\n",
    "for i in range(10):\n",
    "    print anime_data[anime_data.anime_id == sorted_max_animes[i][0]].name"
   ]
  },
  {
   "cell_type": "code",
   "execution_count": 24,
   "metadata": {
    "collapsed": false
   },
   "outputs": [
    {
     "data": {
      "text/html": [
       "<div>\n",
       "<table border=\"1\" class=\"dataframe\">\n",
       "  <thead>\n",
       "    <tr style=\"text-align: right;\">\n",
       "      <th></th>\n",
       "      <th>user_id</th>\n",
       "      <th>anime_id</th>\n",
       "      <th>rating</th>\n",
       "    </tr>\n",
       "  </thead>\n",
       "  <tbody>\n",
       "    <tr>\n",
       "      <th>7813732</th>\n",
       "      <td>73515</td>\n",
       "      <td>16512</td>\n",
       "      <td>7</td>\n",
       "    </tr>\n",
       "    <tr>\n",
       "      <th>7813733</th>\n",
       "      <td>73515</td>\n",
       "      <td>17187</td>\n",
       "      <td>9</td>\n",
       "    </tr>\n",
       "    <tr>\n",
       "      <th>7813734</th>\n",
       "      <td>73515</td>\n",
       "      <td>22145</td>\n",
       "      <td>10</td>\n",
       "    </tr>\n",
       "    <tr>\n",
       "      <th>7813735</th>\n",
       "      <td>73516</td>\n",
       "      <td>790</td>\n",
       "      <td>9</td>\n",
       "    </tr>\n",
       "    <tr>\n",
       "      <th>7813736</th>\n",
       "      <td>73516</td>\n",
       "      <td>8074</td>\n",
       "      <td>9</td>\n",
       "    </tr>\n",
       "  </tbody>\n",
       "</table>\n",
       "</div>"
      ],
      "text/plain": [
       "         user_id  anime_id  rating\n",
       "7813732    73515     16512       7\n",
       "7813733    73515     17187       9\n",
       "7813734    73515     22145      10\n",
       "7813735    73516       790       9\n",
       "7813736    73516      8074       9"
      ]
     },
     "execution_count": 24,
     "metadata": {},
     "output_type": "execute_result"
    }
   ],
   "source": [
    "ratings_completed.tail()"
   ]
  },
  {
   "cell_type": "code",
   "execution_count": 27,
   "metadata": {
    "collapsed": false
   },
   "outputs": [
    {
     "name": "stdout",
     "output_type": "stream",
     "text": [
      "1 Fullmetal Alchemist: Brotherhood\n",
      "2 Gintama°\n",
      "3 Steins;Gate\n",
      "4 Gintama&#039;\n",
      "5 Haikyuu!!: Karasuno Koukou VS Shiratorizawa Gakuen Koukou\n",
      "6 Hunter x Hunter (2011)\n",
      "7 Gintama&#039;: Enchousen\n",
      "8 Clannad: After Story\n",
      "9 Gintama\n",
      "10 Code Geass: Hangyaku no Lelouch R2\n",
      "11 Haikyuu!! Second Season\n",
      "12 Shigatsu wa Kimi no Uso\n",
      "13 Mushishi Zoku Shou 2nd Season\n",
      "14 Hajime no Ippo\n",
      "15 Code Geass: Hangyaku no Lelouch\n",
      "16 Cowboy Bebop\n",
      "17 One Punch Man\n",
      "18 Monogatari Series: Second Season\n",
      "19 Mushishi Zoku Shou\n",
      "20 Ryouma 30 Seconds\n",
      "21 Mushishi\n",
      "22 Tengen Toppa Gurren Lagann\n",
      "23 Great Teacher Onizuka\n",
      "24 Natsume Yuujinchou Go\n",
      "25 Natsume Yuujinchou Shi\n"
     ]
    }
   ],
   "source": [
    "#Top 25 Animes\n",
    "for i in range(25):\n",
    "    print\"{0} {1}\".format(i + 1, best_by_rating.values[i][1])"
   ]
  },
  {
   "cell_type": "code",
   "execution_count": 28,
   "metadata": {
    "collapsed": true
   },
   "outputs": [],
   "source": [
    "ratings_animes_dict = {}\n",
    "#Most rating animes\n",
    "for i in range(len(ratings_completed_values)):\n",
    "    if ratings_completed_values[i][2] > -1:\n",
    "        try:\n",
    "            ratings_animes_dict[ratings_completed_values[i][1]] += 1\n",
    "        except KeyError:\n",
    "            ratings_animes_dict[ratings_completed_values[i][1]] = 1"
   ]
  },
  {
   "cell_type": "code",
   "execution_count": 29,
   "metadata": {
    "collapsed": true
   },
   "outputs": [],
   "source": [
    "ratings_animes_dict = sorted(ratings_animes_dict.items(), key=operator.itemgetter(1), reverse=True)"
   ]
  },
  {
   "cell_type": "code",
   "execution_count": 34,
   "metadata": {
    "collapsed": false
   },
   "outputs": [
    {
     "name": "stdout",
     "output_type": "stream",
     "text": [
      "Anime: 40    Death Note\n",
      "Name: name, dtype: object : Ratings: 34226\n",
      "Anime: 804    Sword Art Online\n",
      "Name: name, dtype: object : Ratings: 26310\n",
      "Anime: 86    Shingeki no Kyojin\n",
      "Name: name, dtype: object : Ratings: 25290\n",
      "Anime: 19    Code Geass: Hangyaku no Lelouch\n",
      "Name: name, dtype: object : Ratings: 24126\n",
      "Anime: 159    Angel Beats!\n",
      "Name: name, dtype: object : Ratings: 23565\n",
      "Anime: 760    Elfen Lied\n",
      "Name: name, dtype: object : Ratings: 23528\n",
      "Anime: 841    Naruto\n",
      "Name: name, dtype: object : Ratings: 22071\n",
      "Anime: 1    Fullmetal Alchemist: Brotherhood\n",
      "Name: name, dtype: object : Ratings: 21494\n",
      "Anime: 200    Fullmetal Alchemist\n",
      "Name: name, dtype: object : Ratings: 21332\n",
      "Anime: 13    Code Geass: Hangyaku no Lelouch R2\n",
      "Name: name, dtype: object : Ratings: 21124\n",
      "Anime: 131    Toradora!\n",
      "Name: name, dtype: object : Ratings: 20837\n",
      "Anime: 1709    Highschool of the Dead\n",
      "Name: name, dtype: object : Ratings: 19488\n",
      "Anime: Series([], Name: name, dtype: object) : Ratings: 19481\n",
      "Anime: 223    Clannad\n",
      "Name: name, dtype: object : Ratings: 18746\n",
      "Anime: 445    Mirai Nikki (TV)\n",
      "Name: name, dtype: object : Ratings: 18649\n",
      "Anime: 643    Ao no Exorcist\n",
      "Name: name, dtype: object : Ratings: 17801\n",
      "Anime: 3    Steins;Gate\n",
      "Name: name, dtype: object : Ratings: 17151\n",
      "Anime: 702    Another\n",
      "Name: name, dtype: object : Ratings: 17036\n",
      "Anime: 29    Tengen Toppa Gurren Lagann\n",
      "Name: name, dtype: object : Ratings: 16955\n",
      "Anime: 440    Soul Eater\n",
      "Name: name, dtype: object : Ratings: 16667\n"
     ]
    }
   ],
   "source": [
    "for i in range(20):\n",
    "    print \"Anime: {0} : Ratings: {1}\".format(anime_data[anime_data.anime_id == ratings_animes_dict[i][0]].name, ratings_animes_dict[i][1])"
   ]
  },
  {
   "cell_type": "code",
   "execution_count": 37,
   "metadata": {
    "collapsed": false
   },
   "outputs": [
    {
     "name": "stdout",
     "output_type": "stream",
     "text": [
      "Anime: 7391    Sun Set Sun\n",
      "Name: name, dtype: object : Ratings: 1\n",
      "Anime: 9852    One and Three Four\n",
      "Name: name, dtype: object : Ratings: 1\n",
      "Anime: 7070    Gekkou Shokudou\n",
      "Name: name, dtype: object : Ratings: 1\n",
      "Anime: 9291    Kokuen\n",
      "Name: name, dtype: object : Ratings: 1\n",
      "Anime: 10599    Toute wa Sono Kotae\n",
      "Name: name, dtype: object : Ratings: 1\n",
      "Anime: 10302    Skirt\n",
      "Name: name, dtype: object : Ratings: 1\n",
      "Anime: 10409    Storywriter\n",
      "Name: name, dtype: object : Ratings: 1\n",
      "Anime: 6836    Gregorio\n",
      "Name: name, dtype: object : Ratings: 1\n",
      "Anime: 6653    Ashita e Mukau Hito\n",
      "Name: name, dtype: object : Ratings: 1\n",
      "Anime: 6534    La Primavera\n",
      "Name: name, dtype: object : Ratings: 1\n",
      "Anime: 6379    Fake Style II\n",
      "Name: name, dtype: object : Ratings: 1\n",
      "Anime: 6398    Fake Style\n",
      "Name: name, dtype: object : Ratings: 1\n",
      "Anime: 9961    Pepsi Nex x 009 Re:Cyborg\n",
      "Name: name, dtype: object : Ratings: 1\n",
      "Anime: 10147    Satto Anshin, SAT x Peeping Life\n",
      "Name: name, dtype: object : Ratings: 1\n",
      "Anime: 10883    ZIP! x Peeping Life TV: Cool Japan Saizensen\n",
      "Name: name, dtype: object : Ratings: 1\n",
      "Anime: 10513    Teo the Magic Planet Pilot\n",
      "Name: name, dtype: object : Ratings: 1\n",
      "Anime: 9246    Kitakaze to Taiyou\n",
      "Name: name, dtype: object : Ratings: 1\n",
      "Anime: 10799    Yanesenondo\n",
      "Name: name, dtype: object : Ratings: 1\n",
      "Anime: 8897    Hokori Inu no Hanashi\n",
      "Name: name, dtype: object : Ratings: 1\n",
      "Anime: 9324    Kozaru no Buranko\n",
      "Name: name, dtype: object : Ratings: 1\n"
     ]
    }
   ],
   "source": [
    "# The worst ratings\n",
    "for i in range(1, 21):\n",
    "    print \"Anime: {0} : Ratings: {1}\".format(animes[animes.anime_id == ratings_animes_dict[-i][0]].name, ratings_animes_dict[-i][1])"
   ]
  },
  {
   "cell_type": "code",
   "execution_count": 39,
   "metadata": {
    "collapsed": false
   },
   "outputs": [],
   "source": [
    "#How many users made a ranking!\n",
    "user_ratings = {}\n",
    "for i in range(len(ratings_completed_values)):\n",
    "    try:\n",
    "        user_ratings[ratings_completed_values[i][0]] += 1\n",
    "    except KeyError:\n",
    "        user_ratings[ratings_completed_values[i][0]] = 1        "
   ]
  },
  {
   "cell_type": "code",
   "execution_count": null,
   "metadata": {
    "collapsed": true
   },
   "outputs": [],
   "source": []
  }
 ],
 "metadata": {
  "kernelspec": {
   "display_name": "Python 2",
   "language": "python",
   "name": "python2"
  },
  "language_info": {
   "codemirror_mode": {
    "name": "ipython",
    "version": 2
   },
   "file_extension": ".py",
   "mimetype": "text/x-python",
   "name": "python",
   "nbconvert_exporter": "python",
   "pygments_lexer": "ipython2",
   "version": "2.7.12"
  }
 },
 "nbformat": 4,
 "nbformat_minor": 0
}
