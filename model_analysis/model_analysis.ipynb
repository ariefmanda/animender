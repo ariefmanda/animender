{
 "cells": [
  {
   "cell_type": "markdown",
   "metadata": {},
   "source": [
    "# Imports"
   ]
  },
  {
   "cell_type": "code",
   "execution_count": 49,
   "metadata": {
    "collapsed": true
   },
   "outputs": [],
   "source": [
    "import pandas as pd\n",
    "import numpy as np"
   ]
  },
  {
   "cell_type": "markdown",
   "metadata": {
    "collapsed": true
   },
   "source": [
    "# Data Preprocessing"
   ]
  },
  {
   "cell_type": "markdown",
   "metadata": {},
   "source": [
    "### Loading Dataset"
   ]
  },
  {
   "cell_type": "code",
   "execution_count": 50,
   "metadata": {
    "collapsed": true
   },
   "outputs": [],
   "source": [
    "ratings = pd.read_csv('../data/rating.csv.zip')\n",
    "animes = pd.read_csv('../data/anime.csv')"
   ]
  },
  {
   "cell_type": "code",
   "execution_count": 51,
   "metadata": {
    "collapsed": true
   },
   "outputs": [],
   "source": [
    "#Cleaning ratings to only allow values greater than -1\n",
    "#Cleaning animes to only allow TV Shows\n",
    "ratings = ratings[ratings.rating > -1]\n",
    "animes = animes[animes.type == 'TV']"
   ]
  },
  {
   "cell_type": "markdown",
   "metadata": {},
   "source": [
    "### Transform Dataset"
   ]
  },
  {
   "cell_type": "code",
   "execution_count": 52,
   "metadata": {
    "collapsed": false
   },
   "outputs": [
    {
     "name": "stdout",
     "output_type": "stream",
     "text": [
      "69600\n",
      "3787\n"
     ]
    }
   ],
   "source": [
    "#Getting the amount of differents users\n",
    "nb_users = ratings.groupby(\"user_id\").user_id.nunique().shape[0]\n",
    "#Getting the amount of anime shows\n",
    "nb_shows = animes.shape[0]\n",
    "print nb_users\n",
    "print nb_shows"
   ]
  },
  {
   "cell_type": "code",
   "execution_count": 53,
   "metadata": {
    "collapsed": false
   },
   "outputs": [
    {
     "name": "stdout",
     "output_type": "stream",
     "text": [
      "0.0 %\n",
      "1.89356851033 %\n",
      "3.78713702067 %\n",
      "5.680705531 %\n",
      "7.57427404134 %\n",
      "9.46784255167 %\n",
      "11.361411062 %\n",
      "13.2549795723 %\n",
      "15.1485480827 %\n",
      "17.042116593 %\n",
      "18.9356851033 %\n",
      "20.8292536137 %\n",
      "22.722822124 %\n",
      "24.6163906343 %\n",
      "26.5099591447 %\n",
      "28.403527655 %\n",
      "30.2970961654 %\n",
      "32.1906646757 %\n",
      "34.084233186 %\n",
      "35.9778016964 %\n",
      "37.8713702067 %\n",
      "39.764938717 %\n",
      "41.6585072274 %\n",
      "43.5520757377 %\n",
      "45.445644248 %\n",
      "47.3392127584 %\n",
      "49.2327812687 %\n",
      "51.126349779 %\n",
      "53.0199182894 %\n",
      "54.9134867997 %\n",
      "56.80705531 %\n",
      "58.7006238204 %\n",
      "60.5941923307 %\n",
      "62.487760841 %\n",
      "64.3813293514 %\n",
      "66.2748978617 %\n",
      "68.168466372 %\n",
      "70.0620348824 %\n",
      "71.9556033927 %\n",
      "73.849171903 %\n",
      "75.7427404134 %\n",
      "77.6363089237 %\n",
      "79.529877434 %\n",
      "81.4234459444 %\n",
      "83.3170144547 %\n",
      "85.210582965 %\n",
      "87.1041514754 %\n",
      "88.9977199857 %\n",
      "90.8912884961 %\n",
      "92.7848570064 %\n",
      "94.6784255167 %\n",
      "96.5719940271 %\n",
      "98.4655625374 %\n",
      "73516\n",
      "69599\n"
     ]
    }
   ],
   "source": [
    "#Rewritting ratings dataframe to ajust user_id in sequences\n",
    "#We have 69600 users in ratings but we have 73516 different users id's\n",
    "#We need to create a test set, but we'll have data loss if we don't have the user_id in sequences\n",
    "actual_index = ratings.iloc[0,].user_id\n",
    "new_index = 0\n",
    "new_list_user_id = []\n",
    "for i in range(ratings.shape[0]):\n",
    "    if i % 120000 == 0:\n",
    "        print\"{0} %\".format((i / float(ratings.shape[0])) * 100.)\n",
    "    if ratings.iloc[i,].user_id != actual_index:\n",
    "        new_index += 1\n",
    "        actual_index = ratings.iloc[i,].user_id    \n",
    "    new_list_user_id.append(new_index)\n",
    "print actual_index\n",
    "print new_index        "
   ]
  },
  {
   "cell_type": "code",
   "execution_count": 54,
   "metadata": {
    "collapsed": false
   },
   "outputs": [
    {
     "data": {
      "text/html": [
       "<div>\n",
       "<table border=\"1\" class=\"dataframe\">\n",
       "  <thead>\n",
       "    <tr style=\"text-align: right;\">\n",
       "      <th></th>\n",
       "      <th>user_id</th>\n",
       "      <th>anime_id</th>\n",
       "      <th>rating</th>\n",
       "    </tr>\n",
       "  </thead>\n",
       "  <tbody>\n",
       "    <tr>\n",
       "      <th>7813732</th>\n",
       "      <td>73515</td>\n",
       "      <td>16512</td>\n",
       "      <td>7</td>\n",
       "    </tr>\n",
       "    <tr>\n",
       "      <th>7813733</th>\n",
       "      <td>73515</td>\n",
       "      <td>17187</td>\n",
       "      <td>9</td>\n",
       "    </tr>\n",
       "    <tr>\n",
       "      <th>7813734</th>\n",
       "      <td>73515</td>\n",
       "      <td>22145</td>\n",
       "      <td>10</td>\n",
       "    </tr>\n",
       "    <tr>\n",
       "      <th>7813735</th>\n",
       "      <td>73516</td>\n",
       "      <td>790</td>\n",
       "      <td>9</td>\n",
       "    </tr>\n",
       "    <tr>\n",
       "      <th>7813736</th>\n",
       "      <td>73516</td>\n",
       "      <td>8074</td>\n",
       "      <td>9</td>\n",
       "    </tr>\n",
       "  </tbody>\n",
       "</table>\n",
       "</div>"
      ],
      "text/plain": [
       "         user_id  anime_id  rating\n",
       "7813732    73515     16512       7\n",
       "7813733    73515     17187       9\n",
       "7813734    73515     22145      10\n",
       "7813735    73516       790       9\n",
       "7813736    73516      8074       9"
      ]
     },
     "execution_count": 54,
     "metadata": {},
     "output_type": "execute_result"
    }
   ],
   "source": [
    "ratings.tail()"
   ]
  },
  {
   "cell_type": "code",
   "execution_count": 55,
   "metadata": {
    "collapsed": true
   },
   "outputs": [],
   "source": [
    "ratings['user_id'] = new_list_user_id"
   ]
  },
  {
   "cell_type": "code",
   "execution_count": 56,
   "metadata": {
    "collapsed": false
   },
   "outputs": [
    {
     "data": {
      "text/html": [
       "<div>\n",
       "<table border=\"1\" class=\"dataframe\">\n",
       "  <thead>\n",
       "    <tr style=\"text-align: right;\">\n",
       "      <th></th>\n",
       "      <th>user_id</th>\n",
       "      <th>anime_id</th>\n",
       "      <th>rating</th>\n",
       "    </tr>\n",
       "  </thead>\n",
       "  <tbody>\n",
       "    <tr>\n",
       "      <th>7813732</th>\n",
       "      <td>69598</td>\n",
       "      <td>16512</td>\n",
       "      <td>7</td>\n",
       "    </tr>\n",
       "    <tr>\n",
       "      <th>7813733</th>\n",
       "      <td>69598</td>\n",
       "      <td>17187</td>\n",
       "      <td>9</td>\n",
       "    </tr>\n",
       "    <tr>\n",
       "      <th>7813734</th>\n",
       "      <td>69598</td>\n",
       "      <td>22145</td>\n",
       "      <td>10</td>\n",
       "    </tr>\n",
       "    <tr>\n",
       "      <th>7813735</th>\n",
       "      <td>69599</td>\n",
       "      <td>790</td>\n",
       "      <td>9</td>\n",
       "    </tr>\n",
       "    <tr>\n",
       "      <th>7813736</th>\n",
       "      <td>69599</td>\n",
       "      <td>8074</td>\n",
       "      <td>9</td>\n",
       "    </tr>\n",
       "  </tbody>\n",
       "</table>\n",
       "</div>"
      ],
      "text/plain": [
       "         user_id  anime_id  rating\n",
       "7813732    69598     16512       7\n",
       "7813733    69598     17187       9\n",
       "7813734    69598     22145      10\n",
       "7813735    69599       790       9\n",
       "7813736    69599      8074       9"
      ]
     },
     "execution_count": 56,
     "metadata": {},
     "output_type": "execute_result"
    }
   ],
   "source": [
    "ratings.tail()"
   ]
  },
  {
   "cell_type": "code",
   "execution_count": 57,
   "metadata": {
    "collapsed": false
   },
   "outputs": [
    {
     "data": {
      "text/html": [
       "<div>\n",
       "<table border=\"1\" class=\"dataframe\">\n",
       "  <thead>\n",
       "    <tr style=\"text-align: right;\">\n",
       "      <th></th>\n",
       "      <th>user_id</th>\n",
       "      <th>anime_id</th>\n",
       "      <th>rating</th>\n",
       "    </tr>\n",
       "  </thead>\n",
       "  <tbody>\n",
       "    <tr>\n",
       "      <th>47</th>\n",
       "      <td>0</td>\n",
       "      <td>8074</td>\n",
       "      <td>10</td>\n",
       "    </tr>\n",
       "    <tr>\n",
       "      <th>81</th>\n",
       "      <td>0</td>\n",
       "      <td>11617</td>\n",
       "      <td>10</td>\n",
       "    </tr>\n",
       "    <tr>\n",
       "      <th>83</th>\n",
       "      <td>0</td>\n",
       "      <td>11757</td>\n",
       "      <td>10</td>\n",
       "    </tr>\n",
       "    <tr>\n",
       "      <th>101</th>\n",
       "      <td>0</td>\n",
       "      <td>15451</td>\n",
       "      <td>10</td>\n",
       "    </tr>\n",
       "    <tr>\n",
       "      <th>153</th>\n",
       "      <td>1</td>\n",
       "      <td>11771</td>\n",
       "      <td>10</td>\n",
       "    </tr>\n",
       "  </tbody>\n",
       "</table>\n",
       "</div>"
      ],
      "text/plain": [
       "     user_id  anime_id  rating\n",
       "47         0      8074      10\n",
       "81         0     11617      10\n",
       "83         0     11757      10\n",
       "101        0     15451      10\n",
       "153        1     11771      10"
      ]
     },
     "execution_count": 57,
     "metadata": {},
     "output_type": "execute_result"
    }
   ],
   "source": [
    "ratings.head()"
   ]
  },
  {
   "cell_type": "markdown",
   "metadata": {},
   "source": [
    "### Splitting Data Set"
   ]
  },
  {
   "cell_type": "code",
   "execution_count": 63,
   "metadata": {
    "collapsed": true
   },
   "outputs": [],
   "source": [
    "#Exporting new data set.\n",
    "ratings.to_csv('ratings_corrected.csv')"
   ]
  },
  {
   "cell_type": "code",
   "execution_count": null,
   "metadata": {
    "collapsed": true
   },
   "outputs": [],
   "source": []
  }
 ],
 "metadata": {
  "kernelspec": {
   "display_name": "Python 2",
   "language": "python",
   "name": "python2"
  },
  "language_info": {
   "codemirror_mode": {
    "name": "ipython",
    "version": 2
   },
   "file_extension": ".py",
   "mimetype": "text/x-python",
   "name": "python",
   "nbconvert_exporter": "python",
   "pygments_lexer": "ipython2",
   "version": "2.7.12"
  }
 },
 "nbformat": 4,
 "nbformat_minor": 0
}
